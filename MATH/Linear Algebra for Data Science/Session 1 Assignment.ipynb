{
 "cells": [
  {
   "cell_type": "code",
   "execution_count": 1,
   "id": "9c0d929f",
   "metadata": {},
   "outputs": [],
   "source": [
    "import numpy as np"
   ]
  },
  {
   "cell_type": "markdown",
   "id": "c56a1fa4",
   "metadata": {},
   "source": [
    "### Practice some NumPy commands:\n",
    "- Create 3 * 3 array.\n",
    "- Check its shape.\n",
    "- Select first row.\n",
    "- Select 2nd column.\n",
    "- Select the 2nd element in the third column.\n",
    "- Create 2*2 from the first two elements of the first 2 rows and columns.\n",
    "- Create single row vector.\n",
    "- Create single column vector."
   ]
  },
  {
   "cell_type": "code",
   "execution_count": 8,
   "id": "98a2dbef",
   "metadata": {},
   "outputs": [
    {
     "data": {
      "text/plain": [
       "array([[0, 1, 2],\n",
       "       [3, 4, 5],\n",
       "       [6, 7, 8]])"
      ]
     },
     "execution_count": 8,
     "metadata": {},
     "output_type": "execute_result"
    }
   ],
   "source": [
    "arr = np.array(np.arange(9)).reshape(3,3)\n",
    "arr"
   ]
  },
  {
   "cell_type": "code",
   "execution_count": 9,
   "id": "0f598ddf",
   "metadata": {},
   "outputs": [
    {
     "data": {
      "text/plain": [
       "(3, 3)"
      ]
     },
     "execution_count": 9,
     "metadata": {},
     "output_type": "execute_result"
    }
   ],
   "source": [
    "arr.shape"
   ]
  },
  {
   "cell_type": "code",
   "execution_count": 10,
   "id": "8eae41a2",
   "metadata": {},
   "outputs": [
    {
     "data": {
      "text/plain": [
       "array([1, 4, 7])"
      ]
     },
     "execution_count": 10,
     "metadata": {},
     "output_type": "execute_result"
    }
   ],
   "source": [
    "arr[:,1] #2nd column"
   ]
  },
  {
   "cell_type": "code",
   "execution_count": 12,
   "id": "aaec7e54",
   "metadata": {},
   "outputs": [
    {
     "data": {
      "text/plain": [
       "array([0, 1, 2])"
      ]
     },
     "execution_count": 12,
     "metadata": {},
     "output_type": "execute_result"
    }
   ],
   "source": [
    "arr[0,:] #1st row"
   ]
  },
  {
   "cell_type": "code",
   "execution_count": 13,
   "id": "eea20703",
   "metadata": {},
   "outputs": [
    {
     "data": {
      "text/plain": [
       "5"
      ]
     },
     "execution_count": 13,
     "metadata": {},
     "output_type": "execute_result"
    }
   ],
   "source": [
    "arr[1,2] #2nd element in the third column."
   ]
  },
  {
   "cell_type": "code",
   "execution_count": 14,
   "id": "87f5983c",
   "metadata": {},
   "outputs": [
    {
     "data": {
      "text/plain": [
       "array([[0, 1],\n",
       "       [3, 4]])"
      ]
     },
     "execution_count": 14,
     "metadata": {},
     "output_type": "execute_result"
    }
   ],
   "source": [
    "arr2 = arr[:2,:2]\n",
    "arr2"
   ]
  },
  {
   "cell_type": "code",
   "execution_count": 16,
   "id": "e24d18dc",
   "metadata": {},
   "outputs": [
    {
     "data": {
      "text/plain": [
       "array([1, 2, 3])"
      ]
     },
     "execution_count": 16,
     "metadata": {},
     "output_type": "execute_result"
    }
   ],
   "source": [
    "row_vct = np.array([1, 2, 3])\n",
    "row_vct\n"
   ]
  },
  {
   "cell_type": "code",
   "execution_count": 17,
   "id": "ee6519f1",
   "metadata": {},
   "outputs": [
    {
     "data": {
      "text/plain": [
       "array([[1],\n",
       "       [2],\n",
       "       [3]])"
      ]
     },
     "execution_count": 17,
     "metadata": {},
     "output_type": "execute_result"
    }
   ],
   "source": [
    "col_vct = np.array([[1],[2],[3]])\n",
    "\n",
    "col_vct"
   ]
  },
  {
   "attachments": {},
   "cell_type": "markdown",
   "id": "053d9605",
   "metadata": {},
   "source": [
    "## Calculate in paper then confirm your results using numpy linalg.norm().\n",
    "### Calculate L1 and L2 norms for the vectors:\n",
    "### [1,2,3], [3,3,1,3], [5,6], [4,3,2], [4,3,2,8,9]"
   ]
  },
  {
   "cell_type": "code",
   "execution_count": 18,
   "id": "2d1d5f81",
   "metadata": {},
   "outputs": [],
   "source": [
    "vect1 = np.array([1,2,3])\n",
    "vect2 = np.array([3,3,1,3])\n",
    "vect3 = np.array([5,6])\n",
    "vect3 = np.array([4,3,2])\n",
    "vect4 = np.array([4,3,2,8,9])"
   ]
  },
  {
   "cell_type": "code",
   "execution_count": 22,
   "id": "618a16e5",
   "metadata": {},
   "outputs": [
    {
     "name": "stdout",
     "output_type": "stream",
     "text": [
      "6.0\n",
      "3.7416573867739413\n"
     ]
    }
   ],
   "source": [
    "vect1_L1 = print(np.linalg.norm(vect1,1))\n",
    "vect1_L2= print(np.linalg.norm(vect1))"
   ]
  },
  {
   "cell_type": "code",
   "execution_count": 23,
   "id": "0f8f2188",
   "metadata": {},
   "outputs": [
    {
     "name": "stdout",
     "output_type": "stream",
     "text": [
      "10.0\n",
      "5.291502622129181\n"
     ]
    }
   ],
   "source": [
    "vect2_L1 = print(np.linalg.norm(vect2,1))\n",
    "vect2_L2= print(np.linalg.norm(vect2))"
   ]
  },
  {
   "cell_type": "code",
   "execution_count": 24,
   "id": "0f04842f",
   "metadata": {},
   "outputs": [
    {
     "name": "stdout",
     "output_type": "stream",
     "text": [
      "9.0\n",
      "5.385164807134504\n"
     ]
    }
   ],
   "source": [
    "vect3_L1 = print(np.linalg.norm(vect3,1))\n",
    "vect3_L2= print(np.linalg.norm(vect3))"
   ]
  },
  {
   "cell_type": "code",
   "execution_count": 25,
   "id": "ddac2705",
   "metadata": {},
   "outputs": [
    {
     "name": "stdout",
     "output_type": "stream",
     "text": [
      "26.0\n",
      "13.19090595827292\n"
     ]
    }
   ],
   "source": [
    "vect4_L1 = print(np.linalg.norm(vect4,1))\n",
    "vect4_L2= print(np.linalg.norm(vect4))"
   ]
  },
  {
   "attachments": {
    "image.png": {
     "image/png": "[encoded data removed]"
    }
   },
   "cell_type": "markdown",
   "id": "9560b90d",
   "metadata": {},
   "source": [
    "## Calculate in paper then confirm your results using numpy.\n",
    "![image.png](attachment:image.png)"
   ]
  },
  {
   "cell_type": "code",
   "execution_count": 27,
   "id": "7bf15682",
   "metadata": {},
   "outputs": [
    {
     "data": {
      "text/plain": [
       "16"
      ]
     },
     "execution_count": 27,
     "metadata": {},
     "output_type": "execute_result"
    }
   ],
   "source": [
    "v = np.array([2, -1, 5, 0])\n",
    "u = np.array([4, -3, 1, -1])\n",
    "np.dot(v, u)"
   ]
  },
  {
   "cell_type": "code",
   "execution_count": 28,
   "id": "051b0ef4",
   "metadata": {},
   "outputs": [
    {
     "data": {
      "text/plain": [
       "0"
      ]
     },
     "execution_count": 28,
     "metadata": {},
     "output_type": "execute_result"
    }
   ],
   "source": [
    "v1 = np.array([3, 2, -1, 4])\n",
    "u1 = np.array([1, -1, 1, 0])\n",
    "np.dot(v1 ,u1)"
   ]
  },
  {
   "cell_type": "markdown",
   "id": "f56c9a66",
   "metadata": {},
   "source": [
    "## Calculate in paper then confirm your results using numpy.\n",
    "### Create two vectors in 2, 3, and 4 dimensions.\n",
    "### Perform vector addition, subtraction, and dot product of these vectors."
   ]
  },
  {
   "cell_type": "code",
   "execution_count": 29,
   "id": "fd7eda58",
   "metadata": {},
   "outputs": [],
   "source": [
    "vect2D_1 = np.array([[1,2],[3,4]])\n",
    "vect2D_2 = np.array([[5,6],[7,8]])\n",
    "\n",
    "vect3D_1 = np.array([[[1, 2], [3, 4]], [[5, 6], [7, 8]]])\n",
    "vect3D_2 = np.array([[[1, 2], [3, 4]], [[5, 6], [7, 8]]])\n",
    "\n",
    "vect4D_1 = np.array([[[[1, 2], [3, 4]], [[5, 6], [7, 8]]],[[[1, 2], [3, 4]], [[5, 6], [7, 8]]]])\n",
    "vect4D_2 = np.array([[[[1, 2], [3, 4]], [[5, 6], [7, 8]]],[[[1, 2], [3, 4]], [[5, 6], [7, 8]]]])"
   ]
  },
  {
   "cell_type": "code",
   "execution_count": 30,
   "id": "ec41dcb5",
   "metadata": {},
   "outputs": [
    {
     "name": "stdout",
     "output_type": "stream",
     "text": [
      "[[ 6  8]\n",
      " [10 12]]\n",
      "[[-4 -4]\n",
      " [-4 -4]]\n",
      "[[19 22]\n",
      " [43 50]]\n"
     ]
    }
   ],
   "source": [
    "print(np.add(vect2D_1,vect2D_2))\n",
    "print(np.subtract(vect2D_1,vect2D_2))\n",
    "print(np.dot(vect2D_1,vect2D_2))"
   ]
  },
  {
   "cell_type": "code",
   "execution_count": 31,
   "id": "4ae79011",
   "metadata": {},
   "outputs": [
    {
     "name": "stdout",
     "output_type": "stream",
     "text": [
      "[[[ 2  4]\n",
      "  [ 6  8]]\n",
      "\n",
      " [[10 12]\n",
      "  [14 16]]]\n",
      "[[[0 0]\n",
      "  [0 0]]\n",
      "\n",
      " [[0 0]\n",
      "  [0 0]]]\n",
      "[[[[  7  10]\n",
      "   [ 19  22]]\n",
      "\n",
      "  [[ 15  22]\n",
      "   [ 43  50]]]\n",
      "\n",
      "\n",
      " [[[ 23  34]\n",
      "   [ 67  78]]\n",
      "\n",
      "  [[ 31  46]\n",
      "   [ 91 106]]]]\n"
     ]
    }
   ],
   "source": [
    "print(np.add(vect3D_1,vect3D_2))\n",
    "print(np.subtract(vect3D_1,vect3D_2))\n",
    "print(np.dot(vect3D_1,vect3D_2))"
   ]
  },
  {
   "cell_type": "code",
   "execution_count": 32,
   "id": "48c8f7fd",
   "metadata": {},
   "outputs": [
    {
     "name": "stdout",
     "output_type": "stream",
     "text": [
      "[[[[ 2  4]\n",
      "   [ 6  8]]\n",
      "\n",
      "  [[10 12]\n",
      "   [14 16]]]\n",
      "\n",
      "\n",
      " [[[ 2  4]\n",
      "   [ 6  8]]\n",
      "\n",
      "  [[10 12]\n",
      "   [14 16]]]]\n",
      "[[[[0 0]\n",
      "   [0 0]]\n",
      "\n",
      "  [[0 0]\n",
      "   [0 0]]]\n",
      "\n",
      "\n",
      " [[[0 0]\n",
      "   [0 0]]\n",
      "\n",
      "  [[0 0]\n",
      "   [0 0]]]]\n",
      "[[[[[[  7  10]\n",
      "     [ 19  22]]\n",
      "\n",
      "    [[  7  10]\n",
      "     [ 19  22]]]\n",
      "\n",
      "\n",
      "   [[[ 15  22]\n",
      "     [ 43  50]]\n",
      "\n",
      "    [[ 15  22]\n",
      "     [ 43  50]]]]\n",
      "\n",
      "\n",
      "\n",
      "  [[[[ 23  34]\n",
      "     [ 67  78]]\n",
      "\n",
      "    [[ 23  34]\n",
      "     [ 67  78]]]\n",
      "\n",
      "\n",
      "   [[[ 31  46]\n",
      "     [ 91 106]]\n",
      "\n",
      "    [[ 31  46]\n",
      "     [ 91 106]]]]]\n",
      "\n",
      "\n",
      "\n",
      "\n",
      " [[[[[  7  10]\n",
      "     [ 19  22]]\n",
      "\n",
      "    [[  7  10]\n",
      "     [ 19  22]]]\n",
      "\n",
      "\n",
      "   [[[ 15  22]\n",
      "     [ 43  50]]\n",
      "\n",
      "    [[ 15  22]\n",
      "     [ 43  50]]]]\n",
      "\n",
      "\n",
      "\n",
      "  [[[[ 23  34]\n",
      "     [ 67  78]]\n",
      "\n",
      "    [[ 23  34]\n",
      "     [ 67  78]]]\n",
      "\n",
      "\n",
      "   [[[ 31  46]\n",
      "     [ 91 106]]\n",
      "\n",
      "    [[ 31  46]\n",
      "     [ 91 106]]]]]]\n"
     ]
    }
   ],
   "source": [
    "print(np.add(vect4D_1,vect4D_2))\n",
    "print(np.subtract(vect4D_1,vect4D_2))\n",
    "print(np.dot(vect4D_1,vect4D_2))"
   ]
  },
  {
   "cell_type": "code",
   "execution_count": null,
   "id": "971af19f",
   "metadata": {},
   "outputs": [],
   "source": []
  }
 ],
 "metadata": {
  "kernelspec": {
   "display_name": "myenv",
   "language": "python",
   "name": "myenv"
  },
  "language_info": {
   "codemirror_mode": {
    "name": "ipython",
    "version": 3
   },
   "file_extension": ".py",
   "mimetype": "text/x-python",
   "name": "python",
   "nbconvert_exporter": "python",
   "pygments_lexer": "ipython3",
   "version": "3.9.7"
  },
  "vscode": {
   "interpreter": {
    "hash": "1c9071722af70bc935aa11d5f3d0ba44f1159e6765160164ac9dd9a30a510f34"
   }
  }
 },
 "nbformat": 4,
 "nbformat_minor": 5
}
