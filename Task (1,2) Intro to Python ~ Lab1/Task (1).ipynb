{
 "cells": [
  {
   "cell_type": "markdown",
   "metadata": {},
   "source": [
    "## Ex 1"
   ]
  },
  {
   "cell_type": "code",
   "execution_count": 31,
   "metadata": {},
   "outputs": [
    {
     "name": "stdout",
     "output_type": "stream",
     "text": [
      "Hello'python!\n"
     ]
    }
   ],
   "source": [
    "#print Hello python!\n",
    "\n",
    "print(\"Hello'python!\")"
   ]
  },
  {
   "cell_type": "markdown",
   "metadata": {},
   "source": [
    "## Ex 2"
   ]
  },
  {
   "cell_type": "code",
   "execution_count": 32,
   "metadata": {},
   "outputs": [
    {
     "name": "stdout",
     "output_type": "stream",
     "text": [
      "I'm__Learning Python \n",
      " thanks NP:)"
     ]
    }
   ],
   "source": [
    "print ('I\\'m','Learning Python ', sep ='__' , end ='\\n thanks NP:)')\n"
   ]
  },
  {
   "cell_type": "markdown",
   "metadata": {},
   "source": [
    "## Ex 3"
   ]
  },
  {
   "cell_type": "code",
   "execution_count": 33,
   "metadata": {},
   "outputs": [
    {
     "name": "stdout",
     "output_type": "stream",
     "text": [
      "The mean of the 5num = 15.4\n"
     ]
    }
   ],
   "source": [
    "from statistics import mean\n",
    "  \n",
    "def Average(numbers):\n",
    "    return mean(numbers)\n",
    "  \n",
    "numbers = [11, 7, 4, 18,37]\n",
    "Mean = Average(numbers)\n",
    "  \n",
    "print(\"The mean of the 5num =\",Mean)"
   ]
  },
  {
   "cell_type": "code",
   "execution_count": 34,
   "metadata": {},
   "outputs": [
    {
     "name": "stdout",
     "output_type": "stream",
     "text": [
      "Mean=: 15.4\n"
     ]
    }
   ],
   "source": [
    "# Easier way\n",
    "nums = [11, 7, 4, 18, 37]\n",
    "n = len(nums)\n",
    "  \n",
    "num_sum = sum(nums)\n",
    "mean = num_sum / n\n",
    "  \n",
    "print(\"Mean=: \" + str(mean))"
   ]
  },
  {
   "cell_type": "markdown",
   "metadata": {},
   "source": [
    "## Ex 4"
   ]
  },
  {
   "cell_type": "code",
   "execution_count": 35,
   "metadata": {},
   "outputs": [
    {
     "name": "stdout",
     "output_type": "stream",
     "text": [
      "     April 2022\n",
      "Mo Tu We Th Fr Sa Su\n",
      "             1  2  3\n",
      " 4  5  6  7  8  9 10\n",
      "11 12 13 14 15 16 17\n",
      "18 19 20 21 22 23 24\n",
      "25 26 27 28 29 30\n",
      "\n"
     ]
    }
   ],
   "source": [
    "import calendar\n",
    "\n",
    "year = 2022  \n",
    "month = 4  \n",
    "\n",
    "print(calendar.month(year, month))"
   ]
  },
  {
   "cell_type": "markdown",
   "metadata": {},
   "source": [
    "## Ex 5"
   ]
  },
  {
   "cell_type": "code",
   "execution_count": 36,
   "metadata": {},
   "outputs": [
    {
     "name": "stdout",
     "output_type": "stream",
     "text": [
      "Enter n: 5\n",
      "615\n"
     ]
    }
   ],
   "source": [
    "n = int(input('Enter n: ')) \n",
    "print(n+int(f'{n}{n}')+int(f'{n}{n}{n}')) "
   ]
  },
  {
   "cell_type": "code",
   "execution_count": 37,
   "metadata": {},
   "outputs": [
    {
     "name": "stdout",
     "output_type": "stream",
     "text": [
      "Input an integer : 5\n",
      "615\n"
     ]
    }
   ],
   "source": [
    "#Another method using %s % to deal with strings\n",
    "\n",
    "n = int(input(\"Input an integer : \"))\n",
    "n1 = int( \"%s\" % n )\n",
    "n2 = int( \"%s%s\" % (n,n) )\n",
    "n3 = int( \"%s%s%s\" % (n,n,n) )\n",
    "print (n1+n2+n3)"
   ]
  },
  {
   "cell_type": "code",
   "execution_count": null,
   "metadata": {},
   "outputs": [],
   "source": []
  }
 ],
 "metadata": {
  "kernelspec": {
   "display_name": "Python 3 (ipykernel)",
   "language": "python",
   "name": "python3"
  },
  "language_info": {
   "codemirror_mode": {
    "name": "ipython",
    "version": 3
   },
   "file_extension": ".py",
   "mimetype": "text/x-python",
   "name": "python",
   "nbconvert_exporter": "python",
   "pygments_lexer": "ipython3",
   "version": "3.9.7"
  }
 },
 "nbformat": 4,
 "nbformat_minor": 2
}
