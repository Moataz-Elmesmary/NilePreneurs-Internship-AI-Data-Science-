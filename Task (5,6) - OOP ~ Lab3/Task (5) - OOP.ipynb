{
 "cells": [
  {
   "cell_type": "markdown",
   "metadata": {},
   "source": [
    "## Ex 1"
   ]
  },
  {
   "cell_type": "code",
   "execution_count": 5,
   "metadata": {},
   "outputs": [
    {
     "name": "stdout",
     "output_type": "stream",
     "text": [
      "enter what you want to get it into uppercase\n",
      "hellooooo\n",
      "HELLOOOOO\n"
     ]
    }
   ],
   "source": [
    "class String:\n",
    "    def get_string(self,str):\n",
    "        str=input()\n",
    "        self.__str=str\n",
    "    def print_string(self):\n",
    "        print(self.__str.upper())\n",
    "\n",
    "print(\"enter what you want to get it into uppercase\")\n",
    "\n",
    "string = String()\n",
    "string.get_string(\"\")\n",
    "string.print_string()  "
   ]
  },
  {
   "cell_type": "markdown",
   "metadata": {},
   "source": [
    "## Ex 4"
   ]
  },
  {
   "cell_type": "code",
   "execution_count": 9,
   "metadata": {},
   "outputs": [
    {
     "name": "stdout",
     "output_type": "stream",
     "text": [
      "3\n"
     ]
    }
   ],
   "source": [
    "class Factory:\n",
    "    count = 0\n",
    "    num = 0\n",
    "    def __init__(self):\n",
    "        self.num = Factory.count\n",
    "        Factory.count += 1\n",
    "\n",
    "a = Factory()\n",
    "b = Factory()\n",
    "c = Factory()\n",
    "print(c.count)"
   ]
  },
  {
   "cell_type": "code",
   "execution_count": null,
   "metadata": {},
   "outputs": [],
   "source": []
  }
 ],
 "metadata": {
  "kernelspec": {
   "display_name": "Python 3 (ipykernel)",
   "language": "python",
   "name": "python3"
  },
  "language_info": {
   "codemirror_mode": {
    "name": "ipython",
    "version": 3
   },
   "file_extension": ".py",
   "mimetype": "text/x-python",
   "name": "python",
   "nbconvert_exporter": "python",
   "pygments_lexer": "ipython3",
   "version": "3.9.7"
  }
 },
 "nbformat": 4,
 "nbformat_minor": 2
}
