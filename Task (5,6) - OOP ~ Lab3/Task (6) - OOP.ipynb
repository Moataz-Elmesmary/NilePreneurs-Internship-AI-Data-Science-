{
 "cells": [
  {
   "attachments": {},
   "cell_type": "markdown",
   "metadata": {},
   "source": [
    "# Ex 2\n",
    "### Create a child class Bus that will inherit all of the variables (name, max_speed, mileage) and methods (drive) of the Vehicle class \n"
   ]
  },
  {
   "cell_type": "code",
   "execution_count": 1,
   "metadata": {},
   "outputs": [
    {
     "name": "stdout",
     "output_type": "stream",
     "text": [
      "Vehicle Name: Chevrolet Speed: 175 Mileage: 15\n"
     ]
    }
   ],
   "source": [
    "class Vehicle:\n",
    "\n",
    "    def __init__(self, name, max_speed, mileage):\n",
    "        self.name = name\n",
    "        self.max_speed = max_speed\n",
    "        self.mileage = mileage\n",
    "    def drive(self):\n",
    "        pass\n",
    "class Bus(Vehicle):\n",
    "    pass\n",
    "\n",
    "bus_1 = Bus(\"Chevrolet\", 175, 15)\n",
    "print(\"Vehicle Name:\", bus_1.name, \"Speed:\", bus_1.max_speed, \"Mileage:\", bus_1.mileage)"
   ]
  },
  {
   "attachments": {},
   "cell_type": "markdown",
   "metadata": {},
   "source": [
    "# Ex 3\n",
    "### Create two individual modules the first one has class Math that has add and sub methods and has sqrt function but out side the scope of the class , the second one make an instance of the Math class and printing the add and sub of 2 values and sqrt of a value\n",
    "\n"
   ]
  },
  {
   "cell_type": "code",
   "execution_count": 3,
   "metadata": {},
   "outputs": [],
   "source": [
    "import math"
   ]
  },
  {
   "cell_type": "code",
   "execution_count": 18,
   "metadata": {},
   "outputs": [
    {
     "name": "stdout",
     "output_type": "stream",
     "text": [
      "Addition= 10\n",
      "Subtraction= 0\n",
      "Sqrt= 10.0\n"
     ]
    }
   ],
   "source": [
    "class Math:\n",
    "    def add(self,a,b):\n",
    "        return a+b\n",
    "    def sub(self,a,b):\n",
    "        return a-b\n",
    "    def sqrt(self,x):\n",
    "        return math.sqrt(x)\n",
    "obj=Math()\n",
    "print('Addition=',obj.add(5,5))\n",
    "print('Subtraction=',obj.sub(5,5))\n",
    "print('Sqrt=', obj.sqrt(100))"
   ]
  },
  {
   "cell_type": "code",
   "execution_count": null,
   "metadata": {},
   "outputs": [],
   "source": []
  }
 ],
 "metadata": {
  "kernelspec": {
   "display_name": "Python 3 (ipykernel)",
   "language": "python",
   "name": "python3"
  },
  "language_info": {
   "codemirror_mode": {
    "name": "ipython",
    "version": 3
   },
   "file_extension": ".py",
   "mimetype": "text/x-python",
   "name": "python",
   "nbconvert_exporter": "python",
   "pygments_lexer": "ipython3",
   "version": "3.9.7"
  }
 },
 "nbformat": 4,
 "nbformat_minor": 2
}
