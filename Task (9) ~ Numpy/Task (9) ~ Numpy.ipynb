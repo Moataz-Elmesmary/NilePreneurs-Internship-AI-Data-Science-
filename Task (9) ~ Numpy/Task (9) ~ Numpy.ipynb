{
 "cells": [
  {
   "cell_type": "markdown",
   "id": "e9909bf2",
   "metadata": {},
   "source": [
    "# Write a NumPy program to create a structured array from given student name, height, class and their data types. Then sort the array on height "
   ]
  },
  {
   "cell_type": "code",
   "execution_count": 1,
   "id": "77d2ae3b",
   "metadata": {},
   "outputs": [
    {
     "name": "stdout",
     "output_type": "stream",
     "text": [
      "Original array: \n",
      " [(b'Ahmed', 2, 47.6 ) (b'Omar', 3, 51.5 ) (b'Saad', 5, 44.12)\n",
      " (b'Yaser', 4, 50.13)]\n",
      "Sort by class, then height if class are equal: \n",
      " [(b'Ahmed', 2, 47.6 ) (b'Omar', 3, 51.5 ) (b'Yaser', 4, 50.13)\n",
      " (b'Saad', 5, 44.12)]\n"
     ]
    }
   ],
   "source": [
    "import numpy as np\n",
    "data_type = [('name', 'S15'), ('class', int), ('height', float)]\n",
    "students_details = [('Ahmed', 2, 47.6), ('Omar', 3, 51.5),('Saad', 5, 44.12), ('Yaser', 4, 50.13)]\n",
    "\n",
    "students = np.array(students_details, dtype=data_type)  \n",
    "\n",
    "print(\"Original array: \\n\", students)\n",
    "\n",
    "print(\"Sort by class, then height if class are equal: \\n\", np.sort(students, order=['class', 'height']))"
   ]
  },
  {
   "cell_type": "markdown",
   "id": "dbba8623",
   "metadata": {},
   "source": [
    "# Kindly solve the following equations using both NumPy & SciPy, and see if there’s a time difference or not:\n",
    "• x + 2y - 3z + 2w = 30\n",
    "• 2x - 5y + 4z + 9w = 4 \n",
    "• -5x + 40y – z – 20w = -6\n",
    "• 5x - 4y – z + 60w = 5"
   ]
  },
  {
   "cell_type": "code",
   "execution_count": 2,
   "id": "3313e759",
   "metadata": {},
   "outputs": [
    {
     "data": {
      "text/plain": [
       "array([19.46701571,  1.44371728, -3.54973822, -1.50183246])"
      ]
     },
     "execution_count": 2,
     "metadata": {},
     "output_type": "execute_result"
    }
   ],
   "source": [
    "import numpy as np\n",
    "\n",
    "A = np.array([[1, 2, -3, 2], [2, -5, 4, 9], [-5, 40, -1, -20], [5, -4, -1, 60]])\n",
    "b = np.array([30, 4, -6, 5])\n",
    "x = np.linalg.solve(A, b)\n",
    "x"
   ]
  },
  {
   "cell_type": "code",
   "execution_count": 4,
   "id": "c8554d09",
   "metadata": {},
   "outputs": [
    {
     "data": {
      "text/plain": [
       "array([19.46701571,  1.44371728, -3.54973822, -1.50183246])"
      ]
     },
     "execution_count": 4,
     "metadata": {},
     "output_type": "execute_result"
    }
   ],
   "source": [
    "#Using Scipy\n",
    "\n",
    "a = np.array([[1, 2, -3, 2], [2, -5, 4, 9], [-5, 40, -1, -20], [5, -4, -1, 60]])\n",
    "b = np.array([30, 4, -6, 5])\n",
    "\n",
    "from scipy import linalg\n",
    "x = linalg.solve(a, b)\n",
    "x"
   ]
  },
  {
   "cell_type": "code",
   "execution_count": null,
   "id": "29b90fe2",
   "metadata": {},
   "outputs": [],
   "source": []
  }
 ],
 "metadata": {
  "kernelspec": {
   "display_name": "Python 3 (ipykernel)",
   "language": "python",
   "name": "python3"
  },
  "language_info": {
   "codemirror_mode": {
    "name": "ipython",
    "version": 3
   },
   "file_extension": ".py",
   "mimetype": "text/x-python",
   "name": "python",
   "nbconvert_exporter": "python",
   "pygments_lexer": "ipython3",
   "version": "3.9.7"
  }
 },
 "nbformat": 4,
 "nbformat_minor": 5
}
