{
 "cells": [
  {
   "cell_type": "markdown",
   "metadata": {},
   "source": [
    "## Ex 1"
   ]
  },
  {
   "cell_type": "code",
   "execution_count": 6,
   "metadata": {},
   "outputs": [
    {
     "name": "stdout",
     "output_type": "stream",
     "text": [
      "Python is a Programming Language Its name starts with  P and its name has 6 letters\n",
      "Java is a Programming Language Its name starts with  J and its name has 4 letters\n",
      "C++ is a Programming Language Its name starts with  C and its name has 3 letters\n"
     ]
    }
   ],
   "source": [
    "p_Languages = [\"Python\", \"Java\", \"C++\"] \n",
    "for i in p_Languages:\n",
    "            print ((i),'is a Programming Language Its name starts with ',(i[0]) , 'and its name has',len(i), 'letters')"
   ]
  },
  {
   "cell_type": "markdown",
   "metadata": {},
   "source": [
    "## Ex 2\n"
   ]
  },
  {
   "cell_type": "code",
   "execution_count": 13,
   "metadata": {},
   "outputs": [
    {
     "name": "stdout",
     "output_type": "stream",
     "text": [
      "The specific keys are: {'salary': 8000, 'name': 'Kelly'}\n"
     ]
    }
   ],
   "source": [
    "SampleDict = {\n",
    "    'name': 'Kelly',\n",
    "    'age':25,\n",
    "    'salary':8000,\n",
    "    'City': 'New York'}\n",
    "\n",
    "vv = {key: SampleDict[key] for key in SampleDict.keys()  & {'name', 'salary'} }\n",
    "print(\"The specific keys are:\",vv)"
   ]
  },
  {
   "cell_type": "markdown",
   "metadata": {},
   "source": [
    "## Ex 3"
   ]
  },
  {
   "cell_type": "code",
   "execution_count": 14,
   "metadata": {},
   "outputs": [
    {
     "name": "stdout",
     "output_type": "stream",
     "text": [
      "Please, enter the word: madam\n",
      "It`s Palindrome\n"
     ]
    }
   ],
   "source": [
    "def Palindrome(word):\n",
    "    return word == word[::-1]\n",
    " \n",
    "word= str(input('Please, enter the word: '))\n",
    "word_palindrome = Palindrome(word)\n",
    " \n",
    "if word_palindrome:\n",
    "    print(\"It`s Palindrome\")\n",
    "else:\n",
    "    print(\"It`s Not Palindrome\")\n"
   ]
  },
  {
   "cell_type": "markdown",
   "metadata": {},
   "source": [
    "## Ex4"
   ]
  },
  {
   "cell_type": "code",
   "execution_count": 15,
   "metadata": {},
   "outputs": [
    {
     "name": "stdout",
     "output_type": "stream",
     "text": [
      "Enter what you want: xxx xx xvxxxx\n",
      "The longest word is:  xvxxxx and its length is:  6\n"
     ]
    }
   ],
   "source": [
    "string_of_words = input(\"Enter what you want: \")\n",
    "longest_word = max(string_of_words.split(), key=len)\n",
    "\n",
    "print(\"The longest word is: \",longest_word ,\"and its length is: \", len(longest_word))"
   ]
  },
  {
   "cell_type": "markdown",
   "metadata": {},
   "source": [
    "## Ex 5"
   ]
  },
  {
   "cell_type": "code",
   "execution_count": 16,
   "metadata": {},
   "outputs": [
    {
     "name": "stdout",
     "output_type": "stream",
     "text": [
      "Enter First number: 11\n",
      "Enter Second number: 12\n",
      "Enter Third number: 13\n",
      "13\n"
     ]
    }
   ],
   "source": [
    "def Max(a, b, c):\n",
    "    list = [a, b, c]\n",
    "    return max(list)\n",
    "  \n",
    "a = int(input(\"Enter First number: \"))\n",
    "b = int(input(\"Enter Second number: \"))\n",
    "c = int(input(\"Enter Third number: \"))\n",
    "print(Max(a, b, c))"
   ]
  },
  {
   "cell_type": "code",
   "execution_count": 18,
   "metadata": {},
   "outputs": [
    {
     "name": "stdout",
     "output_type": "stream",
     "text": [
      "max number is:  13\n"
     ]
    }
   ],
   "source": [
    "# Another Method\n",
    "def Maximum(x, y):\n",
    "    if x > y:\n",
    "        return x\n",
    "    return y\n",
    "def max(x, y, z):\n",
    "\n",
    "    return Maximum(x, Maximum(y, z))\n",
    "\n",
    "print(\"max number is: \",max(11, 12, 13))"
   ]
  },
  {
   "cell_type": "markdown",
   "metadata": {},
   "source": [
    "## Ex 7"
   ]
  },
  {
   "cell_type": "code",
   "execution_count": 19,
   "metadata": {},
   "outputs": [
    {
     "name": "stdout",
     "output_type": "stream",
     "text": [
      "Enter the number: 7\n",
      "7 is a prime number\n"
     ]
    }
   ],
   "source": [
    "num = int(input('Enter the number: '))\n",
    "\n",
    "if num > 1:\n",
    "    for i in range(2, int(num/2)+1):\n",
    "        if (num % i) == 0:\n",
    "            print(num, \"is not a prime number\")\n",
    "    else:\n",
    "        print(num, \"is a prime number\")\n",
    "\n",
    "else:\n",
    "    print(num, \"is not a prime number\")"
   ]
  },
  {
   "cell_type": "code",
   "execution_count": null,
   "metadata": {},
   "outputs": [],
   "source": []
  }
 ],
 "metadata": {
  "kernelspec": {
   "display_name": "Python 3 (ipykernel)",
   "language": "python",
   "name": "python3"
  },
  "language_info": {
   "codemirror_mode": {
    "name": "ipython",
    "version": 3
   },
   "file_extension": ".py",
   "mimetype": "text/x-python",
   "name": "python",
   "nbconvert_exporter": "python",
   "pygments_lexer": "ipython3",
   "version": "3.9.7"
  }
 },
 "nbformat": 4,
 "nbformat_minor": 2
}
