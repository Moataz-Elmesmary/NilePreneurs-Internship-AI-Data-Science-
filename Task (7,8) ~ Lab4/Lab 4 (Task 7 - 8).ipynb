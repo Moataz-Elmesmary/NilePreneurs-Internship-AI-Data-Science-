{
 "cells": [
  {
   "attachments": {},
   "cell_type": "markdown",
   "metadata": {},
   "source": [
    "# Ex 1\n",
    "## write a python script to transfer a file from extension to extension for example given a file named main.c and py extension you should transfer that file into main.py"
   ]
  },
  {
   "cell_type": "code",
   "execution_count": 22,
   "metadata": {},
   "outputs": [],
   "source": [
    "import os"
   ]
  },
  {
   "cell_type": "code",
   "execution_count": 31,
   "metadata": {},
   "outputs": [
    {
     "name": "stdout",
     "output_type": "stream",
     "text": [
      "Enter path: t.txt\n"
     ]
    }
   ],
   "source": [
    "path = input(\"Enter path: \").split()\n",
    "read = path[0]\n",
    "out = path[0]"
   ]
  },
  {
   "cell_type": "code",
   "execution_count": 32,
   "metadata": {},
   "outputs": [
    {
     "name": "stdout",
     "output_type": "stream",
     "text": [
      "('t', '.txt')\n"
     ]
    }
   ],
   "source": [
    "read_path = os.path.splitext(read)\n",
    "print(read_path)"
   ]
  },
  {
   "cell_type": "code",
   "execution_count": 41,
   "metadata": {},
   "outputs": [],
   "source": [
    "out_path = read[0]+\".\"+out\n",
    "with open(read,\"r\") as in_f, open(out_path, \"w+\") as out_f:\n",
    "    for line in in_f:\n",
    "        out_f.write(line)"
   ]
  },
  {
   "attachments": {},
   "cell_type": "markdown",
   "metadata": {},
   "source": [
    "# Ex 2\n",
    "## write a python script that checks for a file if it exists or not!"
   ]
  },
  {
   "cell_type": "code",
   "execution_count": 42,
   "metadata": {},
   "outputs": [
    {
     "name": "stdout",
     "output_type": "stream",
     "text": [
      "Enter file path: t.txt\n",
      "found\n"
     ]
    }
   ],
   "source": [
    "from os.path import exists\n",
    "path=input(\"Enter file path: \")\n",
    "if os.path.exists(path):\n",
    "  print(\"found\")\n",
    "else:\n",
    "  print(\"not found\")"
   ]
  },
  {
   "cell_type": "code",
   "execution_count": 44,
   "metadata": {},
   "outputs": [
    {
     "name": "stdout",
     "output_type": "stream",
     "text": [
      "found\n"
     ]
    }
   ],
   "source": [
    "# or\n",
    "\n",
    "import os\n",
    "if os.path.exists(\"t.txt\"):\n",
    "    print(\"found\")\n",
    "else : print(\"not found\")"
   ]
  },
  {
   "attachments": {},
   "cell_type": "markdown",
   "metadata": {},
   "source": [
    "# Ex 3\n",
    "## Sort sampleJson keys and write them into a JSON file\n",
    "sampleJson = {\"id\" : 1, \"name\" : \"value2\", \"age\" : 29}\n"
   ]
  },
  {
   "cell_type": "code",
   "execution_count": 53,
   "metadata": {},
   "outputs": [
    {
     "name": "stdout",
     "output_type": "stream",
     "text": [
      "Started writing\n",
      "Done writing JSON data into a file\n",
      "{'age': 29, 'id': 1, 'name': 'value2'}\n"
     ]
    }
   ],
   "source": [
    "import json\n",
    "\n",
    "sampleJson = {\"id\" : 1, \"name\" : \"value2\", \"age\" : 29}\n",
    "\n",
    "print(\"Started writing\")\n",
    "with open(\"sampleJson.json\", \"w\") as write_file:\n",
    "    json.dump(sampleJson, write_file, indent=4, sort_keys=True)\n",
    "print(\"Done writing JSON data into a file\")\n",
    "\n",
    "with open(\"sampleJson.json\", \"r\") as read_file:\n",
    "    data = json.load(read_file)\n",
    "\n",
    "print(data)"
   ]
  },
  {
   "attachments": {},
   "cell_type": "markdown",
   "metadata": {},
   "source": [
    "# Ex 4\n",
    "## Parse the following JSON to get all the values of a key ‘name’ within an array and if its an error just print the error only"
   ]
  },
  {
   "cell_type": "code",
   "execution_count": 63,
   "metadata": {},
   "outputs": [
    {
     "name": "stdout",
     "output_type": "stream",
     "text": [
      "name1 name2\n"
     ]
    }
   ],
   "source": [
    "import json\n",
    "sampleJson = \"\"\"[ \n",
    "   { \n",
    "      \"id\":1,\n",
    "      \"name\":\"name1\",\n",
    "      \"color\":[ \n",
    "         \"red\",\n",
    "         \"green\"\n",
    "      ]\n",
    "   },\n",
    "   { \n",
    "      \"id\":2,\n",
    "      \"name\":\"name2\",\n",
    "      \"color\":[ \n",
    "         \"pink\",\n",
    "         \"yellow\"\n",
    "      ]\n",
    "   }\n",
    "]\"\"\"\n",
    "\n",
    "try:\n",
    "    data = json.loads(sampleJson)\n",
    "    print(data[0][\"name\"],data[1][\"name\"])\n",
    "\n",
    "except:\n",
    "    print('error')"
   ]
  },
  {
   "attachments": {},
   "cell_type": "markdown",
   "metadata": {},
   "source": [
    "# Ex 5\n",
    "## CSV (Comma Separated Values) is a most common file format that is widely supported by many platforms and applications."
   ]
  },
  {
   "cell_type": "code",
   "execution_count": 74,
   "metadata": {},
   "outputs": [],
   "source": [
    "import csv\n",
    "dict_data = [\n",
    "{'No': 1, 'Name': 'Alex', 'Country': 'India'},\n",
    "{'No': 2, 'Name': 'Ben', 'Country': 'USA'},\n",
    "{'No': 3, 'Name': 'Shri Ram', 'Country': 'India'},\n",
    "{'No': 4, 'Name': 'Smith', 'Country': 'USA'},\n",
    "{'No': 5, 'Name': 'Yuva Raj', 'Country': 'India'},\n",
    "]\n",
    "\n",
    "fieldnames = ['No', 'Name', 'Country']\n",
    "\n",
    "with open(\"data.csv\", \"w\") as file_csv:\n",
    "    write = csv.DictWriter(file_csv, fieldnames=fieldnames)\n",
    "    write.writeheader()\n",
    "    for row in dict_data:\n",
    "        try:\n",
    "            write.writerow(row)\n",
    "        except:\n",
    "            print(\"Error\")"
   ]
  },
  {
   "cell_type": "code",
   "execution_count": 76,
   "metadata": {},
   "outputs": [],
   "source": [
    "import csv\n",
    "csv_columns = ['No','Name','Country']\n",
    "dict_data = [\n",
    "{'No': 1, 'Name': 'Alex', 'Country': 'India'},\n",
    "{'No': 2, 'Name': 'Ben', 'Country': 'USA'},\n",
    "{'No': 3, 'Name': 'Shri Ram', 'Country': 'India'},\n",
    "{'No': 4, 'Name': 'Smith', 'Country': 'USA'},\n",
    "{'No': 5, 'Name': 'Yuva Raj', 'Country': 'India'},\n",
    "]\n",
    "csv_file = \"Names.csv\"\n",
    "try:\n",
    "    with open(csv_file, 'w') as csvfile:\n",
    "        writer = csv.DictWriter(csvfile, fieldnames=csv_columns)\n",
    "        writer.writeheader()\n",
    "        for data in dict_data:\n",
    "            writer.writerow(data)\n",
    "except:\n",
    "    print(\"error\")"
   ]
  },
  {
   "cell_type": "code",
   "execution_count": null,
   "metadata": {},
   "outputs": [],
   "source": []
  }
 ],
 "metadata": {
  "kernelspec": {
   "display_name": "Python 3 (ipykernel)",
   "language": "python",
   "name": "python3"
  },
  "language_info": {
   "codemirror_mode": {
    "name": "ipython",
    "version": 3
   },
   "file_extension": ".py",
   "mimetype": "text/x-python",
   "name": "python",
   "nbconvert_exporter": "python",
   "pygments_lexer": "ipython3",
   "version": "3.9.7"
  }
 },
 "nbformat": 4,
 "nbformat_minor": 2
}
